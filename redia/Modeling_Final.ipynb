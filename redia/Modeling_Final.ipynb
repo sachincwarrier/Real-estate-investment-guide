{
 "cells": [
  {
   "cell_type": "markdown",
   "metadata": {},
   "source": [
    "# Modeling and Hyperparameter Tuning"
   ]
  },
  {
   "cell_type": "code",
   "execution_count": 1,
   "metadata": {},
   "outputs": [],
   "source": [
    "import pandas as pd\n",
    "import numpy as np\n",
    "from scipy import stats\n",
    "from sklearn.model_selection import train_test_split\n",
    "from sklearn.neighbors import KNeighborsRegressor\n",
    "from sklearn.pipeline import Pipeline\n",
    "from sklearn.preprocessing import StandardScaler, MinMaxScaler\n",
    "from sklearn.compose import ColumnTransformer\n",
    "from sklearn.metrics import mean_absolute_error\n",
    "from sklearn.ensemble import RandomForestRegressor, GradientBoostingRegressor\n",
    "from sklearn.svm import SVR\n",
    "from sklearn.model_selection import GridSearchCV, KFold, RandomizedSearchCV\n",
    "import joblib\n",
    "import time\n",
    "from sqlalchemy import create_engine\n",
    "import psycopg2\n",
    "import io\n",
    "import tensorflow as tf\n",
    "from tensorflow.keras.models import Sequential\n",
    "from tensorflow.keras.layers import Dense, LeakyReLU\n",
    "from tensorflow.keras.callbacks import EarlyStopping"
   ]
  },
  {
   "cell_type": "markdown",
   "metadata": {},
   "source": [
    "## Read the data\n",
    "We have json data from RentalBeast, and the csv cleaned data from the Bridge API"
   ]
  },
  {
   "cell_type": "code",
   "execution_count": 13,
   "metadata": {},
   "outputs": [],
   "source": [
    "import json\n",
    "\n",
    "with open(\"listing_full.json\") as infile:\n",
    "    d = json.load(infile)\n",
    "l = d['data']\n",
    "l2 = [{\n",
    "    \"bedrooms\":float(r['bedrooms']),\n",
    "    \"bathrooms\":float(r['bathrooms']),\n",
    "    \"sqft\":float(r['square_footage']),\n",
    "    \"latitude\":float(r['latitude']),\n",
    "    \"longitude\":float(r['longitude']),\n",
    "    \"heating\":1 if r['heat']==\"Yes\" else 0,\n",
    "    \"cooling\":1 if r['air_conditioning']==\"Yes\" else 0,\n",
    "    \"price\":int(r['rent'])\n",
    "} for r in l]\n",
    "\n",
    "df01 = pd.read_csv(\"cleaned_BridgeAPI_data.csv\").dropna()\n",
    "df02 = pd.DataFrame(l2)\n",
    "\n"
   ]
  },
  {
   "cell_type": "markdown",
   "metadata": {},
   "source": [
    "## Data Prep for modeling\n",
    "Apply standard scaling, and then split the data"
   ]
  },
  {
   "cell_type": "code",
   "execution_count": 3,
   "metadata": {},
   "outputs": [],
   "source": [
    "X = df02[['bedrooms','bathrooms','sqft','latitude','longitude']]#,'heating','cooling']]\n",
    "y = df02.price\n",
    "\n",
    "ss1 = StandardScaler()\n",
    "X_scaled = ss1.fit_transform(X)\n",
    "X_train,X_test,y_train,y_test = train_test_split(X_scaled,y)"
   ]
  },
  {
   "cell_type": "markdown",
   "metadata": {},
   "source": [
    "## Modeling\n",
    "\n",
    "**Neural Network**"
   ]
  },
  {
   "cell_type": "code",
   "execution_count": 17,
   "metadata": {},
   "outputs": [
    {
     "name": "stdout",
     "output_type": "stream",
     "text": [
      "Train on 5101 samples, validate on 1276 samples\n",
      "Epoch 1/30\n",
      "5101/5101 [==============================] - 0s 88us/sample - loss: 1456.2290 - val_loss: 1395.1438\n",
      "Epoch 2/30\n",
      "5101/5101 [==============================] - 0s 32us/sample - loss: 1272.3631 - val_loss: 1019.6442\n",
      "Epoch 3/30\n",
      "5101/5101 [==============================] - 0s 31us/sample - loss: 687.9517 - val_loss: 411.2519\n",
      "Epoch 4/30\n",
      "5101/5101 [==============================] - 0s 32us/sample - loss: 394.7524 - val_loss: 357.6342\n",
      "Epoch 5/30\n",
      "5101/5101 [==============================] - 0s 34us/sample - loss: 367.5945 - val_loss: 338.0040\n",
      "Epoch 6/30\n",
      "5101/5101 [==============================] - 0s 32us/sample - loss: 346.0723 - val_loss: 318.0191\n",
      "Epoch 7/30\n",
      "5101/5101 [==============================] - 0s 34us/sample - loss: 326.7556 - val_loss: 304.6927\n",
      "Epoch 8/30\n",
      "5101/5101 [==============================] - 0s 56us/sample - loss: 310.9965 - val_loss: 294.4195\n",
      "Epoch 9/30\n",
      "5101/5101 [==============================] - 0s 37us/sample - loss: 298.6876 - val_loss: 286.6797\n",
      "Epoch 10/30\n",
      "5101/5101 [==============================] - 0s 33us/sample - loss: 289.4337 - val_loss: 281.1318\n",
      "Epoch 11/30\n",
      "5101/5101 [==============================] - 0s 34us/sample - loss: 282.3017 - val_loss: 277.5397\n",
      "Epoch 12/30\n",
      "5101/5101 [==============================] - 0s 40us/sample - loss: 277.5500 - val_loss: 273.7221\n",
      "Epoch 13/30\n",
      "5101/5101 [==============================] - 0s 39us/sample - loss: 273.8841 - val_loss: 272.7237\n",
      "Epoch 14/30\n",
      "5101/5101 [==============================] - 0s 33us/sample - loss: 271.2778 - val_loss: 270.5206\n",
      "Epoch 15/30\n",
      "5101/5101 [==============================] - 0s 54us/sample - loss: 269.0204 - val_loss: 271.2211\n",
      "Epoch 16/30\n",
      "5101/5101 [==============================] - 0s 36us/sample - loss: 267.7271 - val_loss: 269.1510\n",
      "Epoch 17/30\n",
      "5101/5101 [==============================] - 0s 33us/sample - loss: 266.4492 - val_loss: 267.7038\n",
      "Epoch 18/30\n",
      "5101/5101 [==============================] - 0s 33us/sample - loss: 265.8106 - val_loss: 266.8556\n",
      "Epoch 19/30\n",
      "5101/5101 [==============================] - 0s 34us/sample - loss: 265.0476 - val_loss: 267.0055\n",
      "Epoch 20/30\n",
      "5101/5101 [==============================] - 0s 33us/sample - loss: 264.0152 - val_loss: 268.6649\n",
      "Epoch 21/30\n",
      "5101/5101 [==============================] - 0s 34us/sample - loss: 263.7908 - val_loss: 266.4220\n",
      "Epoch 22/30\n",
      "5101/5101 [==============================] - 0s 33us/sample - loss: 263.2257 - val_loss: 267.8852\n",
      "Epoch 23/30\n",
      "5101/5101 [==============================] - 0s 35us/sample - loss: 262.9088 - val_loss: 266.2368\n",
      "Epoch 24/30\n",
      "5101/5101 [==============================] - 0s 33us/sample - loss: 262.6883 - val_loss: 267.2870\n",
      "Epoch 25/30\n",
      "5101/5101 [==============================] - 0s 33us/sample - loss: 262.6151 - val_loss: 265.4889\n",
      "Epoch 26/30\n",
      "5101/5101 [==============================] - 0s 33us/sample - loss: 262.5181 - val_loss: 266.5888\n",
      "Epoch 27/30\n",
      "5101/5101 [==============================] - 0s 33us/sample - loss: 262.2474 - val_loss: 266.5831\n",
      "Epoch 28/30\n",
      "5101/5101 [==============================] - 0s 33us/sample - loss: 261.9249 - val_loss: 266.1468\n",
      "262.61114910640777\n"
     ]
    }
   ],
   "source": [
    "# create model\n",
    "model = Sequential()\n",
    "\n",
    "# get input shape\n",
    "n_cols = X.shape[1]\n",
    "\n",
    "# add layers\n",
    "model.add(Dense(32, activation='relu', input_shape=(n_cols,)))\n",
    "model.add(Dense(32))\n",
    "model.add(Dense(1))\n",
    "\n",
    "# compile\n",
    "model.compile(optimizer='adam', loss='mean_absolute_error')\n",
    "\n",
    "# add early stopping\n",
    "early_stopping_monitor = EarlyStopping(patience=3)\n",
    "\n",
    "# fit\n",
    "model.fit(X_scaled, y, validation_split=0.2, epochs=30, callbacks=[early_stopping_monitor])\n",
    "print(mean_absolute_error(model.predict(X_scaled),y))"
   ]
  },
  {
   "cell_type": "markdown",
   "metadata": {},
   "source": [
    "**K-Nearest Neighbor**"
   ]
  },
  {
   "cell_type": "code",
   "execution_count": 5,
   "metadata": {},
   "outputs": [
    {
     "name": "stdout",
     "output_type": "stream",
     "text": [
      "94.37824561534045\n"
     ]
    }
   ],
   "source": [
    "knn_params = {\n",
    "    'n_neighbors':[2,3,4,5,6,7,8,9],\n",
    "    'weights':['uniform','distance'],\n",
    "    'metric':['euclidean','manhattan']\n",
    "}\n",
    "knn_search = GridSearchCV(KNeighborsRegressor(), knn_params, cv=5)\n",
    "knn_search.fit(X_train,y_train)\n",
    "knn_final = knn_search.best_estimator_\n",
    "print(mean_absolute_error(knn_final.predict(X_test),y_test))"
   ]
  },
  {
   "cell_type": "markdown",
   "metadata": {},
   "source": [
    "Save the model"
   ]
  },
  {
   "cell_type": "code",
   "execution_count": 6,
   "metadata": {},
   "outputs": [
    {
     "data": {
      "text/plain": [
       "['knn_final.joblib']"
      ]
     },
     "execution_count": 6,
     "metadata": {},
     "output_type": "execute_result"
    }
   ],
   "source": [
    "joblib.dump(knn_final,\"knn_final.joblib\")"
   ]
  },
  {
   "cell_type": "markdown",
   "metadata": {},
   "source": [
    "**Random Forest Regressor**"
   ]
  },
  {
   "cell_type": "code",
   "execution_count": 7,
   "metadata": {},
   "outputs": [
    {
     "name": "stdout",
     "output_type": "stream",
     "text": [
      "75.54531998941498\n"
     ]
    }
   ],
   "source": [
    "n_estimators = [int(x) for x in np.linspace(start = 50, stop = 250, num = 10)]\n",
    "max_features = ['auto', 'sqrt']\n",
    "max_depth = [int(x) for x in np.linspace(10, 110, num = 11)]\n",
    "max_depth.append(None)\n",
    "min_samples_split = [2, 5, 10]\n",
    "min_samples_leaf = [1, 2, 4]\n",
    "bootstrap = [True, False]\n",
    "\n",
    "rfr_params = {'n_estimators': n_estimators,\n",
    "               'max_features': max_features,\n",
    "               'max_depth': max_depth,\n",
    "               'min_samples_split': min_samples_split,\n",
    "               'min_samples_leaf': min_samples_leaf,\n",
    "               'bootstrap': bootstrap}\n",
    "\n",
    "rfr_search = RandomizedSearchCV(RandomForestRegressor(),rfr_params,cv=5)\n",
    "rfr_search.fit(X_train,y_train)\n",
    "rfr_final = rfr_search.best_estimator_\n",
    "print(mean_absolute_error(rfr_final.predict(X_test),y_test))"
   ]
  },
  {
   "cell_type": "markdown",
   "metadata": {},
   "source": [
    "Save the model"
   ]
  },
  {
   "cell_type": "code",
   "execution_count": 8,
   "metadata": {},
   "outputs": [
    {
     "data": {
      "text/plain": [
       "['rfr_final.joblib']"
      ]
     },
     "execution_count": 8,
     "metadata": {},
     "output_type": "execute_result"
    }
   ],
   "source": [
    "joblib.dump(rfr_final,\"rfr_final.joblib\")"
   ]
  },
  {
   "cell_type": "markdown",
   "metadata": {},
   "source": [
    "**Boosted Trees**\n",
    "\n",
    "We will re-use some tuning parameters from the random forest"
   ]
  },
  {
   "cell_type": "code",
   "execution_count": 9,
   "metadata": {},
   "outputs": [
    {
     "name": "stdout",
     "output_type": "stream",
     "text": [
      "84.8363069899642\n"
     ]
    }
   ],
   "source": [
    "gbr_params = {\n",
    "    'n_estimators':n_estimators,\n",
    "    'learning_rate': [0.1, 0.05, 0.02, 0.01],\n",
    "    'max_depth':max_depth,\n",
    "    'min_samples_leaf':min_samples_leaf,\n",
    "    'max_features':[0.1,0.3,1.0]\n",
    "}\n",
    "\n",
    "gbr_search = RandomizedSearchCV(GradientBoostingRegressor(),gbr_params,cv=5)\n",
    "gbr_search.fit(X_train,y_train)\n",
    "gbr_final = gbr_search.best_estimator_\n",
    "print(mean_absolute_error(gbr_final.predict(X_test),y_test))"
   ]
  },
  {
   "cell_type": "markdown",
   "metadata": {},
   "source": [
    "Save the model"
   ]
  },
  {
   "cell_type": "code",
   "execution_count": 10,
   "metadata": {},
   "outputs": [
    {
     "data": {
      "text/plain": [
       "['gbr_final.joblib']"
      ]
     },
     "execution_count": 10,
     "metadata": {},
     "output_type": "execute_result"
    }
   ],
   "source": [
    "joblib.dump(gbr_final,\"gbr_final.joblib\")"
   ]
  },
  {
   "cell_type": "markdown",
   "metadata": {},
   "source": [
    "## Run inference using the best model on the for-sale dataset"
   ]
  },
  {
   "cell_type": "code",
   "execution_count": 14,
   "metadata": {},
   "outputs": [
    {
     "data": {
      "text/html": [
       "<div>\n",
       "<style scoped>\n",
       "    .dataframe tbody tr th:only-of-type {\n",
       "        vertical-align: middle;\n",
       "    }\n",
       "\n",
       "    .dataframe tbody tr th {\n",
       "        vertical-align: top;\n",
       "    }\n",
       "\n",
       "    .dataframe thead th {\n",
       "        text-align: right;\n",
       "    }\n",
       "</style>\n",
       "<table border=\"1\" class=\"dataframe\">\n",
       "  <thead>\n",
       "    <tr style=\"text-align: right;\">\n",
       "      <th></th>\n",
       "      <th>ADDRESS</th>\n",
       "      <th>City</th>\n",
       "      <th>PostalCode</th>\n",
       "      <th>ListingId</th>\n",
       "      <th>MlsStatus</th>\n",
       "      <th>ListingContractDate</th>\n",
       "      <th>ListPrice</th>\n",
       "      <th>LivingArea</th>\n",
       "      <th>LotSizeArea</th>\n",
       "      <th>BedroomsTotal</th>\n",
       "      <th>...</th>\n",
       "      <th>FireplacesTotal</th>\n",
       "      <th>AnnualTaxAmount</th>\n",
       "      <th>PropertySubType</th>\n",
       "      <th>Levels</th>\n",
       "      <th>Waterfront</th>\n",
       "      <th>YearBuilt</th>\n",
       "      <th>latitude</th>\n",
       "      <th>Longitude</th>\n",
       "      <th>UUID</th>\n",
       "      <th>RentValue</th>\n",
       "    </tr>\n",
       "  </thead>\n",
       "  <tbody>\n",
       "    <tr>\n",
       "      <td>0</td>\n",
       "      <td>3703 Laurel Ledge LN, Austin TX 78731</td>\n",
       "      <td>Austin</td>\n",
       "      <td>78731.0</td>\n",
       "      <td>4744208</td>\n",
       "      <td>Sold</td>\n",
       "      <td>2014-04-05</td>\n",
       "      <td>800000</td>\n",
       "      <td>5301.0</td>\n",
       "      <td>0.367</td>\n",
       "      <td>5.0</td>\n",
       "      <td>...</td>\n",
       "      <td>1.0</td>\n",
       "      <td>18810.00</td>\n",
       "      <td>Single Family Residence</td>\n",
       "      <td>Two</td>\n",
       "      <td>False</td>\n",
       "      <td>1973.0</td>\n",
       "      <td>30.346987</td>\n",
       "      <td>-97.762045</td>\n",
       "      <td>19a68e23-159b-42ae-be93-2e874068f61a</td>\n",
       "      <td>9023.103333</td>\n",
       "    </tr>\n",
       "    <tr>\n",
       "      <td>1</td>\n",
       "      <td>6113 Highlandale DR, Austin TX 78731</td>\n",
       "      <td>Austin</td>\n",
       "      <td>78731.0</td>\n",
       "      <td>2988324</td>\n",
       "      <td>Sold</td>\n",
       "      <td>2016-04-09</td>\n",
       "      <td>500000</td>\n",
       "      <td>2256.0</td>\n",
       "      <td>0.413</td>\n",
       "      <td>3.0</td>\n",
       "      <td>...</td>\n",
       "      <td>1.0</td>\n",
       "      <td>11434.00</td>\n",
       "      <td>Single Family Residence</td>\n",
       "      <td>Two</td>\n",
       "      <td>False</td>\n",
       "      <td>1977.0</td>\n",
       "      <td>30.347782</td>\n",
       "      <td>-97.762706</td>\n",
       "      <td>c1866e36-5d13-42d5-bf7a-cb1ef8b38f35</td>\n",
       "      <td>3646.008333</td>\n",
       "    </tr>\n",
       "    <tr>\n",
       "      <td>2</td>\n",
       "      <td>3711 Laurel Ledge LN, Austin TX 78731</td>\n",
       "      <td>Austin</td>\n",
       "      <td>78731.0</td>\n",
       "      <td>3789662</td>\n",
       "      <td>Sold</td>\n",
       "      <td>2018-05-25</td>\n",
       "      <td>700000</td>\n",
       "      <td>3076.0</td>\n",
       "      <td>0.281</td>\n",
       "      <td>5.0</td>\n",
       "      <td>...</td>\n",
       "      <td>1.0</td>\n",
       "      <td>15043.00</td>\n",
       "      <td>Single Family Residence</td>\n",
       "      <td>Two</td>\n",
       "      <td>False</td>\n",
       "      <td>1973.0</td>\n",
       "      <td>30.347944</td>\n",
       "      <td>-97.762363</td>\n",
       "      <td>4ec78ff5-0847-44b9-ad9a-223d06a9e556</td>\n",
       "      <td>5007.226667</td>\n",
       "    </tr>\n",
       "    <tr>\n",
       "      <td>3</td>\n",
       "      <td>3702 Laurel Ledge LN, Austin TX 78731</td>\n",
       "      <td>Austin</td>\n",
       "      <td>78731.0</td>\n",
       "      <td>4345115</td>\n",
       "      <td>Sold</td>\n",
       "      <td>2006-02-07</td>\n",
       "      <td>300000</td>\n",
       "      <td>2102.0</td>\n",
       "      <td>0.000</td>\n",
       "      <td>4.0</td>\n",
       "      <td>...</td>\n",
       "      <td>1.0</td>\n",
       "      <td>7239.00</td>\n",
       "      <td>Single Family Residence</td>\n",
       "      <td>Two</td>\n",
       "      <td>False</td>\n",
       "      <td>1977.0</td>\n",
       "      <td>30.347330</td>\n",
       "      <td>-97.761688</td>\n",
       "      <td>3285779f-a40a-4314-b17b-279c527b9646</td>\n",
       "      <td>4338.935000</td>\n",
       "    </tr>\n",
       "    <tr>\n",
       "      <td>5</td>\n",
       "      <td>6105 Mountainclimb DR, Austin TX 78731</td>\n",
       "      <td>Austin</td>\n",
       "      <td>78731.0</td>\n",
       "      <td>5444450</td>\n",
       "      <td>Sold</td>\n",
       "      <td>2008-12-28</td>\n",
       "      <td>400000</td>\n",
       "      <td>2103.0</td>\n",
       "      <td>0.271</td>\n",
       "      <td>3.0</td>\n",
       "      <td>...</td>\n",
       "      <td>1.0</td>\n",
       "      <td>8500.96</td>\n",
       "      <td>Single Family Residence</td>\n",
       "      <td>One</td>\n",
       "      <td>False</td>\n",
       "      <td>1965.0</td>\n",
       "      <td>30.347051</td>\n",
       "      <td>-97.763738</td>\n",
       "      <td>47f7c7bf-f912-4503-b747-4bc06687cd49</td>\n",
       "      <td>3655.226667</td>\n",
       "    </tr>\n",
       "  </tbody>\n",
       "</table>\n",
       "<p>5 rows × 25 columns</p>\n",
       "</div>"
      ],
      "text/plain": [
       "                                  ADDRESS    City  PostalCode  ListingId  \\\n",
       "0   3703 Laurel Ledge LN, Austin TX 78731  Austin     78731.0    4744208   \n",
       "1    6113 Highlandale DR, Austin TX 78731  Austin     78731.0    2988324   \n",
       "2   3711 Laurel Ledge LN, Austin TX 78731  Austin     78731.0    3789662   \n",
       "3   3702 Laurel Ledge LN, Austin TX 78731  Austin     78731.0    4345115   \n",
       "5  6105 Mountainclimb DR, Austin TX 78731  Austin     78731.0    5444450   \n",
       "\n",
       "  MlsStatus ListingContractDate  ListPrice  LivingArea  LotSizeArea  \\\n",
       "0      Sold          2014-04-05     800000      5301.0        0.367   \n",
       "1      Sold          2016-04-09     500000      2256.0        0.413   \n",
       "2      Sold          2018-05-25     700000      3076.0        0.281   \n",
       "3      Sold          2006-02-07     300000      2102.0        0.000   \n",
       "5      Sold          2008-12-28     400000      2103.0        0.271   \n",
       "\n",
       "   BedroomsTotal  ...  FireplacesTotal  AnnualTaxAmount  \\\n",
       "0            5.0  ...              1.0         18810.00   \n",
       "1            3.0  ...              1.0         11434.00   \n",
       "2            5.0  ...              1.0         15043.00   \n",
       "3            4.0  ...              1.0          7239.00   \n",
       "5            3.0  ...              1.0          8500.96   \n",
       "\n",
       "           PropertySubType  Levels  Waterfront  YearBuilt   latitude  \\\n",
       "0  Single Family Residence     Two       False     1973.0  30.346987   \n",
       "1  Single Family Residence     Two       False     1977.0  30.347782   \n",
       "2  Single Family Residence     Two       False     1973.0  30.347944   \n",
       "3  Single Family Residence     Two       False     1977.0  30.347330   \n",
       "5  Single Family Residence     One       False     1965.0  30.347051   \n",
       "\n",
       "   Longitude                                  UUID    RentValue  \n",
       "0 -97.762045  19a68e23-159b-42ae-be93-2e874068f61a  9023.103333  \n",
       "1 -97.762706  c1866e36-5d13-42d5-bf7a-cb1ef8b38f35  3646.008333  \n",
       "2 -97.762363  4ec78ff5-0847-44b9-ad9a-223d06a9e556  5007.226667  \n",
       "3 -97.761688  3285779f-a40a-4314-b17b-279c527b9646  4338.935000  \n",
       "5 -97.763738  47f7c7bf-f912-4503-b747-4bc06687cd49  3655.226667  \n",
       "\n",
       "[5 rows x 25 columns]"
      ]
     },
     "execution_count": 14,
     "metadata": {},
     "output_type": "execute_result"
    }
   ],
   "source": [
    "df001 = df01[['BedroomsTotal','BathroomsTotal','LivingArea','latitude','Longitude']]\n",
    "rfr_final.predict(ss1.transform(df001))\n",
    "df01['RentValue'] = rfr_final.predict(ss1.transform(df001))\n",
    "df01.head()"
   ]
  },
  {
   "cell_type": "code",
   "execution_count": null,
   "metadata": {},
   "outputs": [],
   "source": []
  }
 ],
 "metadata": {
  "kernelspec": {
   "display_name": "Python 3",
   "language": "python",
   "name": "python3"
  },
  "language_info": {
   "codemirror_mode": {
    "name": "ipython",
    "version": 3
   },
   "file_extension": ".py",
   "mimetype": "text/x-python",
   "name": "python",
   "nbconvert_exporter": "python",
   "pygments_lexer": "ipython3",
   "version": "3.7.6"
  }
 },
 "nbformat": 4,
 "nbformat_minor": 4
}
